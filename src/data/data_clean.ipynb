{
  "cells": [
    {
      "cell_type": "markdown",
      "metadata": {
        "id": "Ta_ijhhKBxXX"
      },
      "source": [
        "## import statements, data imports"
      ]
    },
    {
      "cell_type": "code",
      "execution_count": null,
      "metadata": {
        "id": "rS2vm9BdxRMC"
      },
      "outputs": [],
      "source": [
        "import pandas as pd\n",
        "import numpy as np\n",
        "import os\n",
        "import matplotlib.pyplot as plt\n",
        "import seaborn as sns\n",
        "np.random.seed(0)\n",
        "\n",
        "from sklearn.preprocessing import StandardScaler"
      ]
    },
    {
      "cell_type": "code",
      "execution_count": null,
      "metadata": {
        "colab": {
          "base_uri": "https://localhost:8080/",
          "height": 300
        },
        "id": "dMT7jQRjxTLx",
        "outputId": "65968db3-3209-4f5b-fdac-5ea2d9f744f8"
      },
      "outputs": [],
      "source": [
        "main_filename = '..\\\\..\\\\data\\\\raw\\\\all_stocks_5yr.csv' \n",
        "df = pd.read_csv(main_filename)\n",
        "df.describe()"
      ]
    },
    {
      "cell_type": "markdown",
      "metadata": {
        "id": "EiisIswg7ZJG"
      },
      "source": [
        "## remove nulls"
      ]
    },
    {
      "cell_type": "code",
      "execution_count": null,
      "metadata": {
        "id": "AKOiOiwdxsWv"
      },
      "outputs": [],
      "source": [
        "df = df.dropna()"
      ]
    },
    {
      "cell_type": "markdown",
      "metadata": {
        "id": "6ALd6__SCgPE"
      },
      "source": [
        "## clean / prep cols\n"
      ]
    },
    {
      "cell_type": "code",
      "execution_count": null,
      "metadata": {
        "id": "mY5Z8AuPCdyV"
      },
      "outputs": [],
      "source": [
        "df['date'] = pd.to_datetime(df['date'])"
      ]
    },
    {
      "cell_type": "code",
      "execution_count": null,
      "metadata": {
        "id": "lCf7uODVCtzd"
      },
      "outputs": [],
      "source": [
        "# df = pd.get_dummies(df, columns=['Name']) # one hot encoding Name"
      ]
    },
    {
      "cell_type": "markdown",
      "metadata": {
        "id": "A_SJCdOG-6oH"
      },
      "source": [
        "## train test validation split\n"
      ]
    },
    {
      "cell_type": "code",
      "execution_count": null,
      "metadata": {
        "id": "cuI8iWpL_HS4"
      },
      "outputs": [],
      "source": [
        "y = df[\"close\"] # label\n",
        "X = df.drop(columns=[\"close\"]) # features"
      ]
    },
    {
      "cell_type": "code",
      "execution_count": null,
      "metadata": {
        "id": "wKCYKMkB-8bL"
      },
      "outputs": [],
      "source": [
        "aapl_count = (df['Name'] == 'AAPL').sum()\n",
        "aapl_count\n",
        "df = df[df['Name'] == \"AAPL\"].copy()\n",
        "df = df.sort_values(by=\"date\")\n",
        "\n",
        "# lag features to help model memory\n",
        "df['close_lag_1'] = df['close'].shift(1)\n",
        "df['close_lag_2'] = df['close'].shift(2)\n",
        "df['close_lag_3'] = df['close'].shift(3)\n",
        "\n",
        "# rolling mean to detect volatility\n",
        "df['close_ma_5'] = df['close'].rolling(window=5).mean()\n",
        "df['close_ma_10'] = df['close'].rolling(window=10).mean()\n",
        "df['close_std_5'] = df['close'].rolling(window=5).std()\n",
        "\n",
        "df[\"target\"] = df[\"close\"].shift(-1)\n",
        "df = df.dropna() \n",
        "df = df.drop(columns=[\"Name\"])\n",
        "\n",
        "# time-based train/val/test split\n",
        "split_1 = int(len(df) * 0.6)\n",
        "split_2 = int(len(df) * 0.8)\n",
        "\n",
        "train = df.iloc[:split_1]\n",
        "val   = df.iloc[split_1:split_2]\n",
        "test  = df.iloc[split_2:]"
      ]
    },
    {
      "cell_type": "markdown",
      "metadata": {
        "id": "F4bm0GvfEBNN"
      },
      "source": [
        "## feature select: drop highly correlated features"
      ]
    },
    {
      "cell_type": "code",
      "execution_count": null,
      "metadata": {
        "colab": {
          "base_uri": "https://localhost:8080/",
          "height": 853
        },
        "id": "DpJIdf-eEFUo",
        "outputId": "7b252247-39b2-4a09-e7e2-12841dfe7409"
      },
      "outputs": [],
      "source": [
        "# creating corr matrix\n",
        "numeric_X = train.select_dtypes(include=[float, int])\n",
        "corr_matrix = numeric_X.corr().abs()\n",
        "\n",
        "plt.figure(figsize=(12, 10))\n",
        "sns.heatmap(corr_matrix, annot=True, cmap='coolwarm')\n",
        "plt.title(\"Correlation Heatmap\")\n",
        "plt.show()"
      ]
    },
    {
      "cell_type": "code",
      "execution_count": null,
      "metadata": {},
      "outputs": [],
      "source": [
        "# separate features and labels\n",
        "X_train = train.drop(columns=[\"close\", \"target\", \"date\"])\n",
        "y_train = train[\"target\"]\n",
        "\n",
        "X_val = val.drop(columns=[\"close\", \"target\", \"date\"])\n",
        "y_val = val[\"target\"]\n",
        "\n",
        "X_test = test.drop(columns=[\"close\", \"target\", \"date\"])\n",
        "y_test = test[\"target\"]"
      ]
    },
    {
      "cell_type": "markdown",
      "metadata": {
        "id": "7NK3uJ7i9GaY"
      },
      "source": [
        "## data transform: scale data"
      ]
    },
    {
      "cell_type": "code",
      "execution_count": null,
      "metadata": {
        "id": "tmaaXaPg66GW"
      },
      "outputs": [],
      "source": [
        "scaler = StandardScaler() # standard scalar obj removes mean, scales data to unit variance\n",
        "\n",
        "# fit scalar to train, test, and validation then transform . 'fit' calcs mean and standard dev from training data.\n",
        "# X train scaled will contain scaled versions of feature sets with date removed\n",
        "X_train_scaled = scaler.fit_transform(X_train)\n",
        "X_val_scaled = scaler.transform(X_val)\n",
        "X_test_scaled = scaler.transform(X_test)"
      ]
    },
    {
      "cell_type": "markdown",
      "metadata": {
        "id": "IlUULMAbYyca"
      },
      "source": [
        "## save data to local"
      ]
    },
    {
      "cell_type": "code",
      "execution_count": null,
      "metadata": {},
      "outputs": [],
      "source": [
        "processed_path = os.path.abspath(os.path.join(\"..\", \"..\", \"data\", \"processed\"))\n",
        "os.makedirs(processed_path, exist_ok=True)"
      ]
    },
    {
      "cell_type": "code",
      "execution_count": null,
      "metadata": {
        "id": "6RH-3AjhY0ev"
      },
      "outputs": [],
      "source": [
        "X_train_df = pd.DataFrame(X_train_scaled, columns=X_train.columns)\n",
        "X_val_df = pd.DataFrame(X_val_scaled, columns=X_val.columns)\n",
        "X_test_df = pd.DataFrame(X_test_scaled, columns=X_test.columns)\n",
        "\n",
        "# save to csv\n",
        "X_train_df.to_csv(os.path.join(processed_path, \"X_train.csv\"), index=False)\n",
        "X_val_df.to_csv(os.path.join(processed_path, \"X_val.csv\"), index=False)\n",
        "X_test_df.to_csv(os.path.join(processed_path, \"X_test.csv\"), index=False)"
      ]
    },
    {
      "cell_type": "code",
      "execution_count": null,
      "metadata": {},
      "outputs": [],
      "source": [
        "y_train_df = pd.DataFrame(y_train, columns=['target'])\n",
        "y_val_df = pd.DataFrame(y_val, columns=['target'])\n",
        "y_test_df = pd.DataFrame(y_test, columns=['target'])\n",
        "\n",
        "y_train_df.to_csv(os.path.join(processed_path, \"y_train.csv\"), index=False)\n",
        "y_val_df.to_csv(os.path.join(processed_path, \"y_val.csv\"), index=False)\n",
        "y_test_df.to_csv(os.path.join(processed_path, \"y_test.csv\"), index=False)"
      ]
    }
  ],
  "metadata": {
    "colab": {
      "collapsed_sections": [
        "EiisIswg7ZJG"
      ],
      "provenance": []
    },
    "kernelspec": {
      "display_name": "Python 3",
      "name": "python3"
    },
    "language_info": {
      "codemirror_mode": {
        "name": "ipython",
        "version": 3
      },
      "file_extension": ".py",
      "mimetype": "text/x-python",
      "name": "python",
      "nbconvert_exporter": "python",
      "pygments_lexer": "ipython3",
      "version": "3.12.5"
    }
  },
  "nbformat": 4,
  "nbformat_minor": 0
}
